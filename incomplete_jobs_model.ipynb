{
 "cells": [
  {
   "cell_type": "code",
   "execution_count": 1,
   "metadata": {},
   "outputs": [],
   "source": [
    "## imports\n",
    "import pandas as pd\n",
    "import numpy as np\n",
    "from sklearn.model_selection import train_test_split\n",
    "import lightgbm as lgb\n",
    "from sklearn.metrics import confusion_matrix, precision_score\n",
    "import matplotlib.pyplot as plt\n",
    "# We will use the lightgbm python package. its advantages is that you can insert to the model\n",
    "# lines with missing values. Another advantage is that categorical features can be handled with\n",
    "# unique integers/floats and is much more faster than one-hot coding"
   ]
  },
  {
   "cell_type": "code",
   "execution_count": 2,
   "metadata": {},
   "outputs": [
    {
     "name": "stdout",
     "output_type": "stream",
     "text": [
      "     OpenDate FirstName LastName  Gender PreviousCancellations  \\\n",
      "0     9/14/16   Aurelia   Hursey  Female                     0   \n",
      "1     9/17/16       Sid      Fye     NaN                     0   \n",
      "2     9/13/16   Kathrin  Lizotte  Female                     0   \n",
      "3     9/17/16   Jacinta    Ealey  Female                     0   \n",
      "4  09/12/2016       Sal     Lupi    Male                     0   \n",
      "\n",
      "  YearsAsCustomer  CustomerApproved AppointmentDate      AppointmentSlot  \\\n",
      "0       3-5 Years             False         9/25/16                  NaN   \n",
      "1       0-1 Years             False         9/28/16  12:00 PM - 02:00 PM   \n",
      "2    Over 5 Years             False         9/29/16  04:00 PM - 06:00 PM   \n",
      "3       0-1 Years             False         9/27/16  10:00 AM - 12:00 PM   \n",
      "4       1-3 Years             False      10/05/2016  02:00 PM - 04:00 PM   \n",
      "\n",
      "   EngineerKey         TaskCategory                        Maintenance  \\\n",
      "0      1234490  Planned Maintenance  Premise maintenance with customer   \n",
      "1      1234493         Business SLA  Premise maintenance with customer   \n",
      "2      1234494          New Install  Premise maintenance with customer   \n",
      "3      1234491  Planned Maintenance  Premise maintenance with customer   \n",
      "4      1234495          New Install  Premise maintenance with customer   \n",
      "\n",
      "  FixDescription CustomerAge  PastVisits  Result  \n",
      "0            NaN    70 to 80           1       0  \n",
      "1            NaN    70 to 80           0       1  \n",
      "2            NaN    40 to 50           0       0  \n",
      "3            NaN    30 to 40           0       0  \n",
      "4            NaN    50 to 60           0       0  \n",
      "Index(['OpenDate', 'FirstName', 'LastName', 'Gender', 'PreviousCancellations',\n",
      "       'YearsAsCustomer', 'CustomerApproved', 'AppointmentDate',\n",
      "       'AppointmentSlot', 'EngineerKey', 'TaskCategory', 'Maintenance',\n",
      "       'FixDescription', 'CustomerAge', 'PastVisits', 'Result'],\n",
      "      dtype='object')\n"
     ]
    }
   ],
   "source": [
    "## I saved the dataset to my computer. let's load the data observe it\n",
    "filepath = r\"C:\\Projects\\Deep Learning Academy\\Click\\data_click.csv\"\n",
    "data = pd.read_csv(filepath)\n",
    "print(data.head(5))\n",
    "print(data.columns)"
   ]
  },
  {
   "cell_type": "code",
   "execution_count": 3,
   "metadata": {},
   "outputs": [
    {
     "name": "stdout",
     "output_type": "stream",
     "text": [
      "Percentage of missing values in each column:\n",
      "OpenDate                  0.0\n",
      "FirstName                 0.0\n",
      "LastName                  0.0\n",
      "Gender                   14.7\n",
      "PreviousCancellations     0.0\n",
      "YearsAsCustomer           0.0\n",
      "CustomerApproved          0.0\n",
      "AppointmentDate           0.0\n",
      "AppointmentSlot          18.1\n",
      "EngineerKey               0.0\n",
      "TaskCategory              0.0\n",
      "Maintenance               0.8\n",
      "FixDescription           66.4\n",
      "CustomerAge               0.0\n",
      "PastVisits                0.0\n",
      "Result                    0.0\n",
      "dtype: float64\n"
     ]
    }
   ],
   "source": [
    "## check for non informative columns\n",
    "# we will go over each column and observe whether the column holds informative data\n",
    "# columns with non informative data will be dropped\n",
    "\n",
    "## lets remove columns that are non-informative\n",
    "print(\"Percentage of missing values in each column:\")\n",
    "print(pd.isnull(data).sum()/data.shape[0] * 100)"
   ]
  },
  {
   "cell_type": "code",
   "execution_count": 4,
   "metadata": {},
   "outputs": [],
   "source": [
    "# 66.4% of the values in the FixDescription column are missing. Let's remove this column\n",
    "data.drop([\"FixDescription\"], axis=1, inplace=True)"
   ]
  },
  {
   "cell_type": "code",
   "execution_count": 5,
   "metadata": {},
   "outputs": [
    {
     "name": "stdout",
     "output_type": "stream",
     "text": [
      "Selene Stott          1\n",
      "Kendal Pua            1\n",
      "Hiram Olivera         1\n",
      "Luvenia Donegan       1\n",
      "Halley Stolte         1\n",
      "Maurita Budniewski    1\n",
      "Gwyneth Guthridge     1\n",
      "Art Linde             1\n",
      "Sandy Mcbee           1\n",
      "Mark Pruden           1\n",
      "dtype: int64\n"
     ]
    }
   ],
   "source": [
    "# We will concatenate the first and last name to a full name and see if there are customers that appear more than once\n",
    "#  If there isn't, the column can be dropped\n",
    "full_name = data[\"FirstName\"] + str(\" \") + data[\"LastName\"]\n",
    "print(full_name.value_counts().sort_values(ascending=False).head(10))"
   ]
  },
  {
   "cell_type": "code",
   "execution_count": 6,
   "metadata": {},
   "outputs": [],
   "source": [
    "# As we can see, each name appears only once, we will drop these columns (FirstName and LastName)\n",
    "data.drop([\"FirstName\", \"LastName\"], axis=1, inplace=True)"
   ]
  },
  {
   "cell_type": "code",
   "execution_count": 7,
   "metadata": {},
   "outputs": [
    {
     "data": {
      "text/plain": [
       "Text(0,0.5,'Occurrences')"
      ]
     },
     "execution_count": 7,
     "metadata": {},
     "output_type": "execute_result"
    },
    {
     "data": {
      "image/png": "[encoded data removed]",
      "text/plain": [
       "<Figure size 432x288 with 1 Axes>"
      ]
     },
     "metadata": {},
     "output_type": "display_data"
    }
   ],
   "source": [
    "# examine PreviousCancellations\n",
    "data[\"PreviousCancellations\"].value_counts().plot(kind=\"bar\", rot=0)\n",
    "plt.title(\"Previous Cancellations Histogram\")\n",
    "plt.xlabel(\"Previous Cancellations\")\n",
    "plt.ylabel(\"Occurrences\")"
   ]
  },
  {
   "cell_type": "code",
   "execution_count": 8,
   "metadata": {},
   "outputs": [],
   "source": [
    "# We can learn from the bar graph above that most jobs haven't been cancelled before.\n",
    "# There are 4 unique values. Obviously this column contains strings (due to 3+). Let's convert this column to integers\n",
    "data[\"PreviousCancellations\"] = pd.factorize(data[\"PreviousCancellations\"])[0]"
   ]
  },
  {
   "cell_type": "code",
   "execution_count": 9,
   "metadata": {},
   "outputs": [
    {
     "data": {
      "text/plain": [
       "<matplotlib.axes._subplots.AxesSubplot at 0x1704b12dda0>"
      ]
     },
     "execution_count": 9,
     "metadata": {},
     "output_type": "execute_result"
    },
    {
     "data": {
      "image/png": "[encoded data removed]",
      "text/plain": [
       "<Figure size 432x288 with 1 Axes>"
      ]
     },
     "metadata": {},
     "output_type": "display_data"
    }
   ],
   "source": [
    "# examine YearsAsCustomer\n",
    "data[\"YearsAsCustomer\"].value_counts().plot(kind=\"bar\", rot=0)"
   ]
  },
  {
   "cell_type": "code",
   "execution_count": 10,
   "metadata": {},
   "outputs": [],
   "source": [
    "# The majority of the customers are using the company service up to 3 years.\n",
    "# There are 4 unique values here as well. Let's convert this column to integers too\n",
    "mapping = {'0-1 Years': 0, '1-3 Years': 1, \"3-5 Years\": 2, \"Over 5 Years\":3}\n",
    "data[\"YearsAsCustomer\"].replace(mapping, inplace=True)"
   ]
  },
  {
   "cell_type": "code",
   "execution_count": 11,
   "metadata": {},
   "outputs": [],
   "source": [
    "# Let's extract features from the date columns that might influence the job completion and make our data invariant to the date\n",
    "# The reason to be invariant to the date is because I don't want to be limited and consider only data records up till\n",
    "# a certain date for the training data (and test my predictions on a future test data) but rather have more generalized\n",
    "# features that will allow me to consider to my training data any possible record\n",
    "# Let's add a new column specifying the number of jobs the engineer has on the appointment date\n",
    "data[\"EngineerKey\"] = pd.factorize(data[\"EngineerKey\"])[0]\n",
    "data.sort_values(by=[\"AppointmentDate\", \"EngineerKey\"], inplace=True)\n",
    "num_jobs_eng_per_date = data.groupby(['AppointmentDate', 'EngineerKey']).size()\n",
    "data.set_index(['AppointmentDate', 'EngineerKey'], inplace=True)\n",
    "data[\"num_jobs\"] = num_jobs_eng_per_date\n",
    "data.reset_index(inplace=True)"
   ]
  },
  {
   "cell_type": "code",
   "execution_count": 12,
   "metadata": {},
   "outputs": [
    {
     "data": {
      "text/plain": [
       "Text(0,0.5,'% incomplete jobs')"
      ]
     },
     "execution_count": 12,
     "metadata": {},
     "output_type": "execute_result"
    },
    {
     "data": {
      "image/png": "[encoded data removed]",
      "text/plain": [
       "<Figure size 432x288 with 1 Axes>"
      ]
     },
     "metadata": {},
     "output_type": "display_data"
    }
   ],
   "source": [
    "# Add a new column specifying the day of the week at which the job was appointed\n",
    "data[\"day_of_week\"] = pd.to_datetime(data[\"AppointmentDate\"]).dt.day_name()\n",
    "\n",
    "# check if there specific week days at which the jobs are tended to be incomplete\n",
    "num_tot_jobs_per_week_day = data[\"day_of_week\"].value_counts()\n",
    "num_incomplete_week_day = data[\"Result\"].groupby(data[\"day_of_week\"]).sum()\n",
    "percentage_incomplete_per_week_day = (num_incomplete_week_day/num_tot_jobs_per_week_day)\n",
    "# re order from Monday to Sunday\n",
    "reorder_list = [\"Monday\", \"Tuesday\", \"Wednesday\", \"Thursday\", \"Friday\", \"Saturday\", \"Sunday\"]\n",
    "percentage_incomplete_per_week_day = percentage_incomplete_per_week_day.reindex(reorder_list)\n",
    "percentage_incomplete_per_week_day.plot(kind=\"bar\")\n",
    "plt.title(\"Percentage of Incomplete Jobs by Each week day\")\n",
    "plt.xlabel(\"week day\")\n",
    "plt.ylabel(\"% incomplete jobs\")\n"
   ]
  },
  {
   "cell_type": "code",
   "execution_count": 13,
   "metadata": {},
   "outputs": [],
   "source": [
    "# We can see that on Wednesday the probability to have an incomplete job is the lowest while on Friday it's the highest\n",
    "# Assign the week days as integers instead of strings\n",
    "data[\"day_of_week\"] = pd.to_datetime(data[\"AppointmentDate\"]).dt.dayofweek"
   ]
  },
  {
   "cell_type": "code",
   "execution_count": 14,
   "metadata": {},
   "outputs": [],
   "source": [
    "# delete the date columns\n",
    "data.drop([\"AppointmentDate\", \"OpenDate\"], axis=1, inplace=True)"
   ]
  },
  {
   "cell_type": "code",
   "execution_count": 15,
   "metadata": {},
   "outputs": [
    {
     "data": {
      "text/plain": [
       "Text(0,0.5,'% incomplete jobs')"
      ]
     },
     "execution_count": 15,
     "metadata": {},
     "output_type": "execute_result"
    },
    {
     "data": {
      "image/png": "[encoded data removed]",
      "text/plain": [
       "<Figure size 432x288 with 1 Axes>"
      ]
     },
     "metadata": {},
     "output_type": "display_data"
    }
   ],
   "source": [
    "# check if there are engineers that usually don't get their job done\n",
    "num_tot_jobs_per_eng = data[\"EngineerKey\"].value_counts()\n",
    "num_incomplete_per_eng = data[\"Result\"].groupby(data[\"EngineerKey\"]).sum()\n",
    "percentage_incomplete_per_eng = num_incomplete_per_eng/num_tot_jobs_per_eng\n",
    "percentage_incomplete_per_eng.plot(kind=\"bar\", rot=0)\n",
    "plt.title(\"Percentage of Incomplete Jobs by Each Engineer\")\n",
    "plt.xlabel(\"Engineer ID\")\n",
    "plt.ylabel(\"% incomplete jobs\")"
   ]
  },
  {
   "cell_type": "code",
   "execution_count": 16,
   "metadata": {},
   "outputs": [
    {
     "data": {
      "text/plain": [
       "<matplotlib.axes._subplots.AxesSubplot at 0x1704b3006a0>"
      ]
     },
     "execution_count": 16,
     "metadata": {},
     "output_type": "execute_result"
    },
    {
     "data": {
      "image/png": "[encoded data removed]",
      "text/plain": [
       "<Figure size 432x288 with 1 Axes>"
      ]
     },
     "metadata": {},
     "output_type": "display_data"
    }
   ],
   "source": [
    "# We can learn from the bar graph above that there are more professional engineers than others\n",
    "\n",
    "# examine YearsAsCustomer\n",
    "appointment_slot =  data[\"AppointmentSlot\"].value_counts()\n",
    "reorder_list = [\"08:00 AM - 10:00 AM\", \"10:00 AM - 12:00 PM\", \"12:00 PM - 02:00 PM\",\n",
    "                \"02:00 PM - 04:00 PM\", \"04:00 PM - 06:00 PM\"]\n",
    "appointment_slot = appointment_slot.reindex(reorder_list)\n",
    "appointment_slot.plot(kind=\"bar\")\n"
   ]
  },
  {
   "cell_type": "code",
   "execution_count": 17,
   "metadata": {},
   "outputs": [],
   "source": [
    "# There are 5 unique values here. Let's convert this column to integers\n",
    "mapping = {'08:00 AM - 10:00 AM': 0, '10:00 AM - 12:00 PM': 1, \"12:00 PM - 02:00 PM\": 2,\n",
    "           \"02:00 PM - 04:00 PM\": 3, \"04:00 PM - 06:00 PM\":4}\n",
    "data[\"AppointmentSlot\"].replace(mapping, inplace=True)"
   ]
  },
  {
   "cell_type": "code",
   "execution_count": 18,
   "metadata": {},
   "outputs": [
    {
     "data": {
      "text/plain": [
       "<matplotlib.axes._subplots.AxesSubplot at 0x1704b17a860>"
      ]
     },
     "execution_count": 18,
     "metadata": {},
     "output_type": "execute_result"
    },
    {
     "data": {
      "image/png": "[encoded data removed]",
      "text/plain": [
       "<Figure size 432x288 with 1 Axes>"
      ]
     },
     "metadata": {},
     "output_type": "display_data"
    }
   ],
   "source": [
    "# check if there are tasks that often don't get done\n",
    "data[\"TaskCategory\"].value_counts().plot(kind=\"bar\")"
   ]
  },
  {
   "cell_type": "code",
   "execution_count": 19,
   "metadata": {},
   "outputs": [
    {
     "data": {
      "text/plain": [
       "Text(0,0.5,'% incomplete jobs')"
      ]
     },
     "execution_count": 19,
     "metadata": {},
     "output_type": "execute_result"
    },
    {
     "data": {
      "image/png": "[encoded data removed]",
      "text/plain": [
       "<Figure size 720x360 with 1 Axes>"
      ]
     },
     "metadata": {},
     "output_type": "display_data"
    }
   ],
   "source": [
    "# There are five different task categories. Plot the percentage of failures for each task\n",
    "plt.figure(figsize=(10,5))\n",
    "temp_data = data[[\"TaskCategory\", \"Result\"]]\n",
    "num_tot_jobs_per_task = temp_data[\"TaskCategory\"].value_counts()\n",
    "num_incomplete_per_task = temp_data[\"Result\"].groupby(data[\"TaskCategory\"]).sum()\n",
    "percentage_incomplete_per_task = num_incomplete_per_task/num_tot_jobs_per_task\n",
    "percentage_incomplete_per_task.plot(kind=\"bar\", rot=0)\n",
    "plt.title(\"Percentage of Incomplete Jobs per Each task\")\n",
    "plt.xlabel(\"Task Category\")\n",
    "plt.ylabel(\"% incomplete jobs\")"
   ]
  },
  {
   "cell_type": "code",
   "execution_count": 20,
   "metadata": {},
   "outputs": [
    {
     "data": {
      "text/plain": [
       "Premise maintenance with customer    991\n",
       "ResidenceType                          1\n",
       "Name: Maintenance, dtype: int64"
      ]
     },
     "execution_count": 20,
     "metadata": {},
     "output_type": "execute_result"
    }
   ],
   "source": [
    "# It can be seen that break fix and planned maintenance are the most incomplete task categories while\n",
    "# new install is the least incomplete task\n",
    "\n",
    "# Examine the maintenance column\n",
    "data[\"Maintenance\"].value_counts()"
   ]
  },
  {
   "cell_type": "code",
   "execution_count": 21,
   "metadata": {},
   "outputs": [],
   "source": [
    "# This column holds 991 values which are the same. This column is not informative and therefore will be dropped\n",
    "data.drop([\"Maintenance\"], axis=1, inplace=True)"
   ]
  },
  {
   "cell_type": "code",
   "execution_count": 22,
   "metadata": {},
   "outputs": [
    {
     "data": {
      "text/plain": [
       "Text(0,0.5,'Occurrences')"
      ]
     },
     "execution_count": 22,
     "metadata": {},
     "output_type": "execute_result"
    },
    {
     "data": {
      "image/png": "[encoded data removed]",
      "text/plain": [
       "<Figure size 432x288 with 1 Axes>"
      ]
     },
     "metadata": {},
     "output_type": "display_data"
    }
   ],
   "source": [
    "# Examine the CustomerAge column\n",
    "data[\"CustomerAge\"].value_counts().plot(kind=\"bar\")\n",
    "plt.title(\"Customer Age Histogram\")\n",
    "plt.xlabel(\"Customer Age\")\n",
    "plt.ylabel(\"Occurrences\")\n"
   ]
  },
  {
   "cell_type": "code",
   "execution_count": 23,
   "metadata": {},
   "outputs": [],
   "source": [
    "# convert the customer age to floats\n",
    "data[\"CustomerAge\"] = data[\"CustomerAge\"].apply(lambda x: float(x[0:2])+5)"
   ]
  },
  {
   "cell_type": "code",
   "execution_count": 24,
   "metadata": {},
   "outputs": [
    {
     "name": "stdout",
     "output_type": "stream",
     "text": [
      "The percentage of incomplete jobs is: 28.3%\n"
     ]
    }
   ],
   "source": [
    "## lets check if the data is balanced\n",
    "percentage_incomplete = (data[\"Result\"].sum())/data.shape[0]\n",
    "print(\"The percentage of incomplete jobs is: \" + str(round(percentage_incomplete*100,1)) + \"%\")"
   ]
  },
  {
   "cell_type": "code",
   "execution_count": 25,
   "metadata": {},
   "outputs": [],
   "source": [
    "# The data is somewhat unbalanced\n",
    "\n",
    "# Convert the rest of the categorical columns to floats\n",
    "categorical_cols = [\"Gender\", \"CustomerApproved\", \"TaskCategory\"]\n",
    "for col in categorical_cols:\n",
    "    data[col], levels  = pd.factorize(data[col], na_sentinel=-100)\n",
    "data[data == -100] = np.nan"
   ]
  },
  {
   "cell_type": "code",
   "execution_count": 26,
   "metadata": {},
   "outputs": [],
   "source": [
    "## Divide to features and target\n",
    "y = data[\"Result\"]\n",
    "x = data.drop([\"Result\"], axis=1)"
   ]
  },
  {
   "cell_type": "code",
   "execution_count": 27,
   "metadata": {},
   "outputs": [],
   "source": [
    "## Divide to train and test sets. We can shuffle the data because the date is not one of our features (date invariant)\n",
    "x_train, x_test, y_train, y_test = train_test_split(x, y, test_size=0.3, shuffle=True, random_state=42) #random_state for reproducing the results between runs\n",
    "x_train = x_train.values\n",
    "x_test = x_test.values"
   ]
  },
  {
   "cell_type": "code",
   "execution_count": 28,
   "metadata": {},
   "outputs": [],
   "source": [
    "# create train data set for the lgb training model\n",
    "lgb_train = lgb.Dataset(x_train, y_train)"
   ]
  },
  {
   "cell_type": "code",
   "execution_count": 29,
   "metadata": {},
   "outputs": [],
   "source": [
    "# Specifying the parameters of the model and taking into consideration the unbalanced data\n",
    "params = {\n",
    "    'task': 'train',\n",
    "    'boosting_type': 'gbdt',\n",
    "    'objective': 'binary',\n",
    "    'metric': {\"binary_error\"},\n",
    "    'num_leaves': 3,\n",
    "    'learning_rate': 0.04,\n",
    "    'verbose': 0,\n",
    "    \"min_data_in_leaf\":6,\n",
    "    'scale_pos_weight':1 # handles with the unbalanced data. got best result with scale_pos_weight=1 which\n",
    "                         # does not suggest that the data should be handled in unbalanced \n",
    "}"
   ]
  },
  {
   "cell_type": "code",
   "execution_count": 30,
   "metadata": {},
   "outputs": [],
   "source": [
    "# train\n",
    "gbm = lgb.train(params,\n",
    "                lgb_train,\n",
    "                num_boost_round=2000)"
   ]
  },
  {
   "cell_type": "code",
   "execution_count": 31,
   "metadata": {},
   "outputs": [],
   "source": [
    "## The following is a function that predicts and evaluates the predictions of the model\n",
    "def evaluate_prediction(x, ytrue, gbm, threshold=0.5):\n",
    "    # The function evaluates the predictions of a given model\n",
    "    # Inputs:\n",
    "    # x - MxN numpy array of the features\n",
    "    # ytrue - Mx1 numpy array of the targets\n",
    "    # gbm - predictive model\n",
    "    # threshold - The threshold for a prediction probability to be considered as class \"1\" (incomplete job)\n",
    "    #\n",
    "    # Outputs:\n",
    "    # ypred - Mx1 numpy array of the predicted probabilities to have an incomplete job\n",
    "    # accuracy - 1x1 of the accuracy of the model\n",
    "    # conf_matrix - 2x2 of the confusion matrix of the model\n",
    "    # conf_matrix[0,0] - true negatives\n",
    "    # conf_matrix[1,0] - false negatives\n",
    "    # conf_matrix[0,1] - false positives\n",
    "    # conf_matrix[1,1] - true positives\n",
    "    # precision - 1x1 of the precision of the model\n",
    "    ypred = gbm.predict(x)\n",
    "\n",
    "    # binarize the predictions based on a threshold (default of 50%). If the probability to have an incomplete job is greater\n",
    "    # than the threshold, it will be considered as a prediction of an incomplete job\n",
    "    ypred_binary = ypred > threshold\n",
    "    accuracy = (sum(ypred_binary == ytrue)) / ytrue.shape[0]\n",
    "    conf_matrix = confusion_matrix(ytrue, ypred_binary)\n",
    "    precision = precision_score(ytrue, ypred_binary, average=\"binary\")\n",
    "\n",
    "    return ypred, accuracy, conf_matrix, precision\n"
   ]
  },
  {
   "cell_type": "code",
   "execution_count": 32,
   "metadata": {},
   "outputs": [],
   "source": [
    "## prediction of the test set\n",
    "ypred_test, accuracy_test, conf_matrix_test, precision_test = evaluate_prediction(x_test, y_test, gbm)"
   ]
  },
  {
   "cell_type": "code",
   "execution_count": 33,
   "metadata": {},
   "outputs": [
    {
     "name": "stdout",
     "output_type": "stream",
     "text": [
      "First 10 values of the true test set\n",
      "[0 1 0 0 0 0 0 0 1 1]\n",
      "\n",
      " First 10 values of the probability to have an incomplete job\n",
      "[0.18 0.64 0.   0.01 0.   0.   0.04 0.06 0.87 0.15]\n"
     ]
    }
   ],
   "source": [
    "# We will print some results of the prediction of the test set\n",
    "# 10 values of the true test set\n",
    "print(\"First 10 values of the true test set\")\n",
    "print(y_test[:10].ravel())\n",
    "# \"ypred_test\" holds the probability to have an incomplete job.\n",
    "# 10 values of the probability to have an incomplete job\n",
    "print(\"\\n First 10 values of the probability to have an incomplete job\")\n",
    "np.set_printoptions(precision=2, suppress=True)\n",
    "print(ypred_test[:10])"
   ]
  },
  {
   "cell_type": "code",
   "execution_count": 34,
   "metadata": {},
   "outputs": [
    {
     "name": "stdout",
     "output_type": "stream",
     "text": [
      "The prediction accuracy on the test set is: 85.3%\n",
      "The confusion matrix on the test set is: \n",
      "[[202  13]\n",
      " [ 31  54]]\n",
      "The precision on the test set is: 80.6%\n"
     ]
    }
   ],
   "source": [
    "# print the accuracy of the test set\n",
    "print(\"The prediction accuracy on the test set is: \" + str(round(accuracy_test*100,1)) + str(\"%\"))\n",
    "# print the confusion matrix\n",
    "print(\"The confusion matrix on the test set is: \")\n",
    "print(conf_matrix_test)\n",
    "# We could adjust the parameter \"scale_pos_weight\" to get more true positives - it depends on what is\n",
    "# important for us in the prediction\n",
    "print(\"The precision on the test set is: \" + str(round(precision_test*100,1)) + str(\"%\"))\n"
   ]
  }
 ],
 "metadata": {
  "kernelspec": {
   "display_name": "Python 3",
   "language": "python",
   "name": "python3"
  },
  "language_info": {
   "codemirror_mode": {
    "name": "ipython",
    "version": 3
   },
   "file_extension": ".py",
   "mimetype": "text/x-python",
   "name": "python",
   "nbconvert_exporter": "python",
   "pygments_lexer": "ipython3",
   "version": "3.6.0"
  }
 },
 "nbformat": 4,
 "nbformat_minor": 2
}
